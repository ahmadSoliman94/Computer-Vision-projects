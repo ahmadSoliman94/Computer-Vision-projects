{
 "cells": [
  {
   "cell_type": "code",
   "execution_count": 1,
   "id": "887c6e94-f4e0-4f81-b21b-036207efa689",
   "metadata": {},
   "outputs": [],
   "source": [
    "import torch\n",
    "import torch.nn as nn\n",
    "import torch.nn.functional as F"
   ]
  },
  {
   "cell_type": "code",
   "execution_count": 2,
   "id": "f2e86eef-387d-43dc-ab6c-3573d0ee5b65",
   "metadata": {},
   "outputs": [],
   "source": [
    "import numpy as np\n",
    "from sklearn.metrics import confusion_matrix\n",
    "from torch.utils.data import DataLoader\n",
    "from torchvision import transforms , datasets\n",
    "import matplotlib.pyplot as plt\n",
    "%matplotlib inline"
   ]
  },
  {
   "cell_type": "code",
   "execution_count": 4,
   "id": "8f4ca4a5-5e65-4021-a7ad-2e3592a6a9b6",
   "metadata": {},
   "outputs": [],
   "source": [
    "transform = transforms.ToTensor()"
   ]
  },
  {
   "cell_type": "code",
   "execution_count": 5,
   "id": "c4a10e68-4e4b-44a6-bebd-3e2d5aff8cc6",
   "metadata": {},
   "outputs": [],
   "source": [
    "train_data = datasets.MNIST(root=r\"C:\\Users\\Zain\\Desktop\\Course\\lec_9\\datasets\",train=True, download= True,transform=transform)"
   ]
  },
  {
   "cell_type": "code",
   "execution_count": 6,
   "id": "44f79f85-be41-42fc-8d5d-824290a47c52",
   "metadata": {},
   "outputs": [],
   "source": [
    "test_data = datasets.MNIST(root=r\"C:\\Users\\Zain\\Desktop\\Course\\lec_9\\datasets\",train=False, download= True,transform=transform)"
   ]
  },
  {
   "cell_type": "code",
   "execution_count": 7,
   "id": "f72f6bc6-dd6e-4203-abcf-4b691e51e4b0",
   "metadata": {},
   "outputs": [],
   "source": [
    "train_loader = DataLoader(train_data,batch_size=10,shuffle=True)\n",
    "test_loader = DataLoader(train_data,batch_size=10,shuffle=False)"
   ]
  },
  {
   "cell_type": "code",
   "execution_count": 8,
   "id": "d5ba0d7c-739b-432e-8b27-f29022b8eaba",
   "metadata": {},
   "outputs": [],
   "source": [
    "conv1 = nn.Conv2d(1,6,3,1) # (n_c , num of filters , f*f , Stride)"
   ]
  },
  {
   "cell_type": "code",
   "execution_count": 9,
   "id": "8f262b40-31ac-4cba-85ec-d97b70d8df5c",
   "metadata": {},
   "outputs": [],
   "source": [
    "conv2 = nn.Conv2d(6,16,3,1)"
   ]
  },
  {
   "cell_type": "code",
   "execution_count": 10,
   "id": "a266eed5-1d71-4b4b-80e8-9e024c04baea",
   "metadata": {},
   "outputs": [],
   "source": [
    "for i,(X_train,y_train) in enumerate(train_data):\n",
    "    break"
   ]
  },
  {
   "cell_type": "code",
   "execution_count": 11,
   "id": "ea3ec3da-5a99-4afc-9d55-f5f39e4adc36",
   "metadata": {},
   "outputs": [
    {
     "data": {
      "text/plain": [
       "torch.Size([1, 28, 28])"
      ]
     },
     "execution_count": 11,
     "metadata": {},
     "output_type": "execute_result"
    }
   ],
   "source": [
    "X_train.shape"
   ]
  },
  {
   "cell_type": "code",
   "execution_count": 12,
   "id": "aa788c74-8a23-4573-a6a1-faf7d028bdea",
   "metadata": {},
   "outputs": [],
   "source": [
    "x = X_train.view(1,1,28,28)"
   ]
  },
  {
   "cell_type": "code",
   "execution_count": 13,
   "id": "83129160-8bc1-49ef-8b5e-6bb98bb265f4",
   "metadata": {},
   "outputs": [],
   "source": [
    "x= F.relu(conv1(x))"
   ]
  },
  {
   "cell_type": "code",
   "execution_count": 14,
   "id": "31e27307-865d-4260-9094-d7bdd19faa97",
   "metadata": {},
   "outputs": [
    {
     "data": {
      "text/plain": [
       "torch.Size([1, 6, 26, 26])"
      ]
     },
     "execution_count": 14,
     "metadata": {},
     "output_type": "execute_result"
    }
   ],
   "source": [
    "x.shape"
   ]
  },
  {
   "cell_type": "code",
   "execution_count": 15,
   "id": "bb29e747-2e2d-4249-9412-dc13bd74461e",
   "metadata": {},
   "outputs": [],
   "source": [
    "x = F.max_pool2d(x,2,2) # (input, filter_size , stride)"
   ]
  },
  {
   "cell_type": "code",
   "execution_count": 17,
   "id": "95867a6c-3ebf-45a7-805d-7d4aeb91214b",
   "metadata": {},
   "outputs": [
    {
     "data": {
      "text/plain": [
       "torch.Size([1, 6, 13, 13])"
      ]
     },
     "execution_count": 17,
     "metadata": {},
     "output_type": "execute_result"
    }
   ],
   "source": [
    "x.shape"
   ]
  },
  {
   "cell_type": "code",
   "execution_count": 18,
   "id": "6918f160-a9db-45fe-b9e3-d92aaccbc969",
   "metadata": {},
   "outputs": [],
   "source": [
    "x = F.relu(conv2(x))"
   ]
  },
  {
   "cell_type": "code",
   "execution_count": 19,
   "id": "6ddc4633-2a9a-4189-bf2b-714615ef4540",
   "metadata": {},
   "outputs": [
    {
     "data": {
      "text/plain": [
       "torch.Size([1, 16, 11, 11])"
      ]
     },
     "execution_count": 19,
     "metadata": {},
     "output_type": "execute_result"
    }
   ],
   "source": [
    "x.shape"
   ]
  },
  {
   "cell_type": "code",
   "execution_count": 20,
   "id": "05e91a38-9058-44e9-a947-128e20a3618d",
   "metadata": {},
   "outputs": [],
   "source": [
    "x = F.max_pool2d(x,2,2)"
   ]
  },
  {
   "cell_type": "code",
   "execution_count": 21,
   "id": "cd9cc8c3-4879-497d-a5f3-7659f68a3dba",
   "metadata": {},
   "outputs": [
    {
     "data": {
      "text/plain": [
       "torch.Size([1, 16, 5, 5])"
      ]
     },
     "execution_count": 21,
     "metadata": {},
     "output_type": "execute_result"
    }
   ],
   "source": [
    "x.shape"
   ]
  },
  {
   "cell_type": "code",
   "execution_count": 22,
   "id": "be214994-3f90-4e0e-9c0d-9c5a6d591126",
   "metadata": {},
   "outputs": [],
   "source": [
    "class ConvolutionalNetwork(nn.Module):\n",
    "    def __init__ (self, in_sz =784, out_sz=10 , layers=[120,84]):\n",
    "        super().__init__()\n",
    "        \n",
    "        \n",
    "        self.conv1 = nn.Conv2d(1,6,3,1) # Z\n",
    "        self.conv2 = nn.Conv2d(6,16,3,1) # Z\n",
    "        \n",
    "        self.fc1 = nn.Linear(5*5*16,120)\n",
    "        self.fc2 = nn.Linear(120,84)\n",
    "        self.fc3 = nn.Linear(84,10)\n",
    "        \n",
    "    def forward(self,X):\n",
    "        X = F.relu(self.conv1(X)) #A1\n",
    "        X = F.max_pool2d(X,2,2) #(input , Kernel , Stride)\n",
    "        X = F.relu(self.conv2(X)) #A2\n",
    "        X = F.max_pool2d(X,2,2)\n",
    "        X = X.view(-1,16*5*5) #Reshape\n",
    "        X = F.relu(self.fc1(X)) #A3\n",
    "        X = F.relu(self.fc2(X)) #A4\n",
    "        X = self.fc3(X)\n",
    "        \n",
    "        return F.log_softmax(X,dim=1)\n",
    "        "
   ]
  },
  {
   "cell_type": "code",
   "execution_count": 23,
   "id": "8ac3c99d-3cc0-4857-b292-53b8e23e1404",
   "metadata": {},
   "outputs": [
    {
     "data": {
      "text/plain": [
       "ConvolutionalNetwork(\n",
       "  (conv1): Conv2d(1, 6, kernel_size=(3, 3), stride=(1, 1))\n",
       "  (conv2): Conv2d(6, 16, kernel_size=(3, 3), stride=(1, 1))\n",
       "  (fc1): Linear(in_features=400, out_features=120, bias=True)\n",
       "  (fc2): Linear(in_features=120, out_features=84, bias=True)\n",
       "  (fc3): Linear(in_features=84, out_features=10, bias=True)\n",
       ")"
      ]
     },
     "execution_count": 23,
     "metadata": {},
     "output_type": "execute_result"
    }
   ],
   "source": [
    "torch.manual_seed(42)\n",
    "model= ConvolutionalNetwork()\n",
    "model"
   ]
  },
  {
   "cell_type": "code",
   "execution_count": 24,
   "id": "92cea63f-b62c-4cf9-845d-922fab78ce17",
   "metadata": {},
   "outputs": [
    {
     "name": "stdout",
     "output_type": "stream",
     "text": [
      "54\n",
      "6\n",
      "864\n",
      "16\n",
      "48000\n",
      "120\n",
      "10080\n",
      "84\n",
      "840\n",
      "10\n"
     ]
    }
   ],
   "source": [
    "for param in model.parameters():\n",
    "    print(param.numel())"
   ]
  },
  {
   "cell_type": "code",
   "execution_count": 25,
   "id": "f8c61ed0-aaf4-48f2-9cac-2b46b7cdeed6",
   "metadata": {},
   "outputs": [],
   "source": [
    "criterion = nn.CrossEntropyLoss()\n",
    "optimizer = torch.optim.Adam(model.parameters(),lr = 0.001)"
   ]
  },
  {
   "cell_type": "code",
   "execution_count": 26,
   "id": "7072d841-38b7-41dc-8fd0-ea1b4132a037",
   "metadata": {},
   "outputs": [
    {
     "name": "stdout",
     "output_type": "stream",
     "text": [
      "Epoch 0 batch 600 loss: 0.04255059361457825 accuracy:78.48333333333333\n",
      "Epoch 0 batch 1200 loss: 0.07941822707653046 accuracy:85.825\n",
      "Epoch 0 batch 1800 loss: 0.31659621000289917 accuracy:88.65555555555555\n",
      "Epoch 0 batch 2400 loss: 0.01757170632481575 accuracy:90.4625\n",
      "Epoch 0 batch 3000 loss: 0.006613250821828842 accuracy:91.6\n",
      "Epoch 0 batch 3600 loss: 0.0016816820716485381 accuracy:92.44166666666666\n",
      "Epoch 0 batch 4200 loss: 0.4883449077606201 accuracy:93.0952380952381\n",
      "Epoch 0 batch 4800 loss: 0.018750842660665512 accuracy:93.55625\n",
      "Epoch 0 batch 5400 loss: 0.011115724220871925 accuracy:93.98518518518519\n",
      "Epoch 0 batch 6000 loss: 0.031585145741701126 accuracy:94.29333333333334\n",
      "Epoch 1 batch 600 loss: 0.03976330906152725 accuracy:97.76666666666667\n",
      "Epoch 1 batch 1200 loss: 0.043116144835948944 accuracy:97.88333333333334\n",
      "Epoch 1 batch 1800 loss: 0.0016609022859483957 accuracy:97.85555555555555\n",
      "Epoch 1 batch 2400 loss: 0.05149104446172714 accuracy:97.8\n",
      "Epoch 1 batch 3000 loss: 0.17433370649814606 accuracy:97.79666666666667\n",
      "Epoch 1 batch 3600 loss: 0.00021525351621676236 accuracy:97.83055555555555\n",
      "Epoch 1 batch 4200 loss: 0.0006470950320363045 accuracy:97.89761904761905\n",
      "Epoch 1 batch 4800 loss: 0.0005114469095133245 accuracy:97.92916666666666\n",
      "Epoch 1 batch 5400 loss: 0.001635698601603508 accuracy:97.9462962962963\n",
      "Epoch 1 batch 6000 loss: 0.017675161361694336 accuracy:97.95\n",
      "Epoch 2 batch 600 loss: 0.0006610352429561317 accuracy:98.91666666666667\n",
      "Epoch 2 batch 1200 loss: 0.005551996175199747 accuracy:98.73333333333333\n",
      "Epoch 2 batch 1800 loss: 0.00028404153999872506 accuracy:98.58333333333333\n",
      "Epoch 2 batch 2400 loss: 0.0010605070274323225 accuracy:98.625\n",
      "Epoch 2 batch 3000 loss: 0.2969624698162079 accuracy:98.57333333333334\n",
      "Epoch 2 batch 3600 loss: 0.046142932027578354 accuracy:98.58055555555555\n",
      "Epoch 2 batch 4200 loss: 0.02936595119535923 accuracy:98.53571428571429\n",
      "Epoch 2 batch 4800 loss: 0.008157799951732159 accuracy:98.55\n",
      "Epoch 2 batch 5400 loss: 0.0006604375666938722 accuracy:98.53518518518518\n",
      "Epoch 2 batch 6000 loss: 0.00016070259152911603 accuracy:98.52166666666666\n",
      "Epoch 3 batch 600 loss: 0.0003333407803438604 accuracy:99.0\n",
      "Epoch 3 batch 1200 loss: 0.0009357985109090805 accuracy:98.96666666666667\n",
      "Epoch 3 batch 1800 loss: 0.00021772700711153448 accuracy:98.96111111111111\n",
      "Epoch 3 batch 2400 loss: 8.589414937887341e-05 accuracy:98.94166666666666\n",
      "Epoch 3 batch 3000 loss: 0.0006382550927810371 accuracy:98.92\n",
      "Epoch 3 batch 3600 loss: 0.0021335058845579624 accuracy:98.85277777777777\n",
      "Epoch 3 batch 4200 loss: 3.074231426580809e-05 accuracy:98.83809523809524\n",
      "Epoch 3 batch 4800 loss: 0.15587028861045837 accuracy:98.84375\n",
      "Epoch 3 batch 5400 loss: 0.0026994100771844387 accuracy:98.83148148148148\n",
      "Epoch 3 batch 6000 loss: 0.02941388450562954 accuracy:98.80666666666667\n",
      "Epoch 4 batch 600 loss: 0.0008023829432204366 accuracy:99.0\n",
      "Epoch 4 batch 1200 loss: 0.06698524206876755 accuracy:99.01666666666667\n",
      "Epoch 4 batch 1800 loss: 0.0002254973805975169 accuracy:99.03333333333333\n",
      "Epoch 4 batch 2400 loss: 7.638069655513391e-05 accuracy:99.07083333333334\n",
      "Epoch 4 batch 3000 loss: 0.005740681197494268 accuracy:99.06\n",
      "Epoch 4 batch 3600 loss: 0.004458199720829725 accuracy:99.06388888888888\n",
      "Epoch 4 batch 4200 loss: 0.000990555272437632 accuracy:99.07142857142857\n",
      "Epoch 4 batch 4800 loss: 0.002651712391525507 accuracy:99.04375\n",
      "Epoch 4 batch 5400 loss: 0.0003888294450007379 accuracy:99.01666666666667\n",
      "Epoch 4 batch 6000 loss: 0.0008540302515029907 accuracy:99.03833333333333\n",
      "Duration:5.64758171637853 mins\n"
     ]
    }
   ],
   "source": [
    "import time\n",
    "\n",
    "start_time = time.time()\n",
    "\n",
    "epochs = 5\n",
    "train_losses = []\n",
    "test_losses = []\n",
    "train_correct = []\n",
    "test_correct = []\n",
    "\n",
    "for i in range(epochs):\n",
    "    trn_corr = 0\n",
    "    tst_corr = 0\n",
    "    \n",
    "    for b,(X_train,y_train) in enumerate(train_loader):\n",
    "        b+=1\n",
    "        y_pred = model(X_train)\n",
    "        loss = criterion(y_pred,y_train)\n",
    "        \n",
    "        \n",
    "        predicted = torch.max(y_pred.data,1)[1]\n",
    "        batch_corr = (predicted == y_train).sum()\n",
    "        trn_corr += batch_corr\n",
    "        \n",
    "        optimizer.zero_grad()\n",
    "        loss.backward()\n",
    "        optimizer.step()\n",
    "        \n",
    "        if b%600 == 0:\n",
    "            acc = trn_corr.item()*100/(10*b)\n",
    "            print (f'Epoch {i} batch {b} loss: {loss.item()} accuracy:{acc}')\n",
    "            \n",
    "    train_losses.append(loss)\n",
    "    train_correct.append(trn_corr)\n",
    "    \n",
    "    \n",
    "    with torch.no_grad():\n",
    "        for b , (X_test,y_test) in enumerate(test_loader):\n",
    "            y_val = model(X_test)\n",
    "            \n",
    "            predicted = torch.max(y_val.data,1)[1]\n",
    "            tst_corr += (predicted == y_test).sum()\n",
    "    loss = criterion(y_val,y_test)\n",
    "    test_losses.append(loss)\n",
    "    test_correct.append(tst_corr)\n",
    "        \n",
    "total_time = time.time() - start_time\n",
    "print(f'Duration:{total_time/60} mins')"
   ]
  },
  {
   "cell_type": "code",
   "execution_count": 27,
   "id": "2dc1c043-51a7-44b1-bea1-bbadaf52f1ad",
   "metadata": {},
   "outputs": [],
   "source": [
    "np_train_losses=[]\n",
    "for i in train_losses:\n",
    "    np_train_losses.append(i.detach().numpy())"
   ]
  },
  {
   "cell_type": "code",
   "execution_count": 28,
   "id": "1bf7e711-720f-4c3f-befe-f728ab817ccc",
   "metadata": {},
   "outputs": [
    {
     "data": {
      "text/plain": [
       "<matplotlib.legend.Legend at 0x2689c0b7e20>"
      ]
     },
     "execution_count": 28,
     "metadata": {},
     "output_type": "execute_result"
    },
    {
     "data": {
      "image/png": "[encoded data removed]",
      "text/plain": [
       "<Figure size 432x288 with 1 Axes>"
      ]
     },
     "metadata": {
      "needs_background": "light"
     },
     "output_type": "display_data"
    }
   ],
   "source": [
    "plt.plot(np_train_losses,label=\"Training Loss\")\n",
    "plt.plot(test_losses,label=\"Test Loss\")\n",
    "plt.legend()"
   ]
  },
  {
   "cell_type": "code",
   "execution_count": 29,
   "id": "18567d7a-960e-4d58-8752-902bafcf021b",
   "metadata": {},
   "outputs": [
    {
     "data": {
      "text/plain": [
       "[tensor(94.2933),\n",
       " tensor(97.9500),\n",
       " tensor(98.5217),\n",
       " tensor(98.8067),\n",
       " tensor(99.0383)]"
      ]
     },
     "execution_count": 29,
     "metadata": {},
     "output_type": "execute_result"
    }
   ],
   "source": [
    "train_acc = [t/600 for t in train_correct]\n",
    "train_acc"
   ]
  },
  {
   "cell_type": "code",
   "execution_count": 30,
   "id": "8b31d8a9-659d-4e5a-95a0-6b0f1bd38525",
   "metadata": {},
   "outputs": [
    {
     "data": {
      "text/plain": [
       "[tensor(97.6317),\n",
       " tensor(98.4683),\n",
       " tensor(98.6750),\n",
       " tensor(99.2833),\n",
       " tensor(99.0367)]"
      ]
     },
     "execution_count": 30,
     "metadata": {},
     "output_type": "execute_result"
    }
   ],
   "source": [
    "test_acc = [t/600 for t in test_correct]\n",
    "test_acc"
   ]
  },
  {
   "cell_type": "code",
   "execution_count": 31,
   "id": "b52d5713-6272-4293-bddd-221ef8205a47",
   "metadata": {},
   "outputs": [
    {
     "data": {
      "text/plain": [
       "[<matplotlib.lines.Line2D at 0x2689c0f35e0>]"
      ]
     },
     "execution_count": 31,
     "metadata": {},
     "output_type": "execute_result"
    },
    {
     "data": {
      "image/png": "[encoded data removed]",
      "text/plain": [
       "<Figure size 432x288 with 1 Axes>"
      ]
     },
     "metadata": {
      "needs_background": "light"
     },
     "output_type": "display_data"
    }
   ],
   "source": [
    "plt.plot(train_acc,label=\"Training Accuracy\")\n",
    "plt.plot(test_acc,label=\"Test Accuracy\")"
   ]
  },
  {
   "cell_type": "code",
   "execution_count": 32,
   "id": "d22c803d-f2be-48af-a6df-8edcbbdd0f76",
   "metadata": {},
   "outputs": [],
   "source": [
    "test_load_all = DataLoader(test_data,batch_size=10000)"
   ]
  },
  {
   "cell_type": "code",
   "execution_count": 33,
   "id": "cc62a762-d8e5-482e-b39e-af2dff8c3425",
   "metadata": {},
   "outputs": [],
   "source": [
    "with torch.no_grad():\n",
    "    correct = 0\n",
    "    for X_test,y_test in test_load_all:\n",
    "        y_val = model(X_test)\n",
    "            \n",
    "        predicted = torch.max(y_val.data,1)[1]\n",
    "        correct += (predicted == y_test).sum()"
   ]
  },
  {
   "cell_type": "code",
   "execution_count": 34,
   "id": "bc4b4385-1046-4519-9adc-3d60e5b0406e",
   "metadata": {},
   "outputs": [
    {
     "data": {
      "text/plain": [
       "98.56"
      ]
     },
     "execution_count": 34,
     "metadata": {},
     "output_type": "execute_result"
    }
   ],
   "source": [
    "100*correct.item()/len(test_data)"
   ]
  },
  {
   "cell_type": "code",
   "execution_count": 35,
   "id": "8b404345-0b08-4ef0-91c6-f515eb25f14b",
   "metadata": {},
   "outputs": [
    {
     "data": {
      "text/plain": [
       "array([[ 972,    0,    1,    0,    0,    2,    4,    0,    4,    0],\n",
       "       [   0, 1134,    3,    0,    2,    0,    5,   13,    2,    1],\n",
       "       [   1,    0, 1021,    1,    1,    0,    2,    8,    2,    0],\n",
       "       [   0,    1,    0,  999,    0,    6,    0,    0,    1,    0],\n",
       "       [   0,    0,    1,    0,  978,    0,    3,    1,    2,   16],\n",
       "       [   0,    0,    0,    4,    0,  876,    1,    0,    0,    5],\n",
       "       [   4,    0,    0,    0,    1,    3,  942,    0,    0,    0],\n",
       "       [   1,    0,    5,    3,    0,    1,    0, 1003,    1,    5],\n",
       "       [   1,    0,    1,    3,    0,    2,    1,    1,  961,   12],\n",
       "       [   1,    0,    0,    0,    0,    2,    0,    2,    1,  970]],\n",
       "      dtype=int64)"
      ]
     },
     "execution_count": 35,
     "metadata": {},
     "output_type": "execute_result"
    }
   ],
   "source": [
    "confusion_matrix(predicted.view(-1),y_test.view(-1))"
   ]
  },
  {
   "cell_type": "code",
   "execution_count": 43,
   "id": "6795ea63-635b-4cbf-9348-41f0d505e54c",
   "metadata": {},
   "outputs": [
    {
     "data": {
      "text/plain": [
       "<matplotlib.image.AxesImage at 0x2689c192e30>"
      ]
     },
     "execution_count": 43,
     "metadata": {},
     "output_type": "execute_result"
    },
    {
     "data": {
      "image/png": "[encoded data removed]",
      "text/plain": [
       "<Figure size 432x288 with 1 Axes>"
      ]
     },
     "metadata": {
      "needs_background": "light"
     },
     "output_type": "display_data"
    }
   ],
   "source": [
    "plt.imshow(test_data[500][0].reshape(28,28))"
   ]
  },
  {
   "cell_type": "code",
   "execution_count": 40,
   "id": "9ce07a38-03a1-4a20-bb6e-ff4fb13d0bd5",
   "metadata": {},
   "outputs": [],
   "source": [
    "model.eval()\n",
    "with torch.no_grad():\n",
    "    new_prediction= model(test_data[500][0].view(1,1,28,28))"
   ]
  },
  {
   "cell_type": "code",
   "execution_count": 41,
   "id": "d137f154-5674-47f5-8fc0-d5c4b48fc7d8",
   "metadata": {},
   "outputs": [
    {
     "data": {
      "text/plain": [
       "tensor([[-41.8147, -28.0974, -28.1067,   0.0000, -35.8653, -23.2801, -42.6333,\n",
       "         -27.3693, -30.8485, -25.2737]])"
      ]
     },
     "execution_count": 41,
     "metadata": {},
     "output_type": "execute_result"
    }
   ],
   "source": [
    "new_prediction"
   ]
  },
  {
   "cell_type": "code",
   "execution_count": 42,
   "id": "a9b0d144-ffd2-47a7-b1fe-a76c3491844c",
   "metadata": {},
   "outputs": [
    {
     "data": {
      "text/plain": [
       "tensor(3)"
      ]
     },
     "execution_count": 42,
     "metadata": {},
     "output_type": "execute_result"
    }
   ],
   "source": [
    "new_prediction.argmax()"
   ]
  },
  {
   "cell_type": "code",
   "execution_count": null,
   "id": "e581c4db-b010-490c-942c-68a7525bc563",
   "metadata": {},
   "outputs": [],
   "source": []
  }
 ],
 "metadata": {
  "kernelspec": {
   "display_name": "Python 3 (ipykernel)",
   "language": "python",
   "name": "python3"
  },
  "language_info": {
   "codemirror_mode": {
    "name": "ipython",
    "version": 3
   },
   "file_extension": ".py",
   "mimetype": "text/x-python",
   "name": "python",
   "nbconvert_exporter": "python",
   "pygments_lexer": "ipython3",
   "version": "3.10.6"
  }
 },
 "nbformat": 4,
 "nbformat_minor": 5
}
